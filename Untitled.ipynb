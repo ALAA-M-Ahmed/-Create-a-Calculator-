{
 "cells": [
  {
   "cell_type": "code",
   "execution_count": 51,
   "id": "eda66397-b2b0-4afa-921b-7a209f2549e6",
   "metadata": {},
   "outputs": [
    {
     "name": "stdin",
     "output_type": "stream",
     "text": [
      "Enter first number: 5\n",
      "Enter scound number: 55\n",
      "Enter operator: /\n"
     ]
    },
    {
     "name": "stdout",
     "output_type": "stream",
     "text": [
      "the result: 0.09090909090909091\n"
     ]
    },
    {
     "name": "stdin",
     "output_type": "stream",
     "text": [
      "Would you like to perform another operation? yes\n",
      "Enter first number: 3\n",
      "Enter scound number: 9\n",
      "Enter operator: -\n"
     ]
    },
    {
     "name": "stdout",
     "output_type": "stream",
     "text": [
      "the result: -6.0\n",
      "invalid operator\n"
     ]
    },
    {
     "name": "stdin",
     "output_type": "stream",
     "text": [
      "Would you like to perform another operation? no\n"
     ]
    },
    {
     "name": "stdout",
     "output_type": "stream",
     "text": [
      "Goodbye!\n"
     ]
    }
   ],
   "source": [
    "#Create a Calculator\n",
    "while  True:\n",
    "    \n",
    "    num1=float(input('Enter first number:'))\n",
    "    num2=float(input('Enter second number:'))\n",
    "    op=input('Enter operator:')\n",
    "    if op=='+':\n",
    "       print('the result:',num1+num2)\n",
    "    if op=='-':\n",
    "       print('the result:',num1-num2)\n",
    "    if op=='*':\n",
    "       print('the result:',num1*num2)\n",
    "    if op=='/':\n",
    "       print('the result:',num1/num2)\n",
    "    else:\n",
    "      print('invalid operator')\n",
    "    \n",
    "    ask_user=input('Would you like to perform another operation?')\n",
    "    if ask_user.strip().lower() == 'no':\n",
    "        print(\"Goodbye!\")\n",
    "        break\n",
    "    elif ask_user .strip().lower()== 'yes':\n",
    "        continue"
   ]
  },
  {
   "cell_type": "code",
   "execution_count": null,
   "id": "876d677e-06c4-497d-a466-d0c3f8fd176e",
   "metadata": {},
   "outputs": [],
   "source": []
  }
 ],
 "metadata": {
  "kernelspec": {
   "display_name": "Python 3 (ipykernel)",
   "language": "python",
   "name": "python3"
  },
  "language_info": {
   "codemirror_mode": {
    "name": "ipython",
    "version": 3
   },
   "file_extension": ".py",
   "mimetype": "text/x-python",
   "name": "python",
   "nbconvert_exporter": "python",
   "pygments_lexer": "ipython3",
   "version": "3.12.7"
  }
 },
 "nbformat": 4,
 "nbformat_minor": 5
}
